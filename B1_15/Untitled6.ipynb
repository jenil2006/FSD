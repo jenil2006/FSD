{
 "cells": [
  {
   "cell_type": "code",
   "execution_count": 6,
   "metadata": {},
   "outputs": [
    {
     "name": "stdout",
     "output_type": "stream",
     "text": [
      "Enter the number of rows 10\n",
      "1 2 3 4 5 6 7 8 9 10 \n",
      " 2 3 4 5 6 7 8 9 10 \n",
      "  3 4 5 6 7 8 9 10 \n",
      "   4 5 6 7 8 9 10 \n",
      "    5 6 7 8 9 10 \n",
      "     6 7 8 9 10 \n",
      "      7 8 9 10 \n",
      "       8 9 10 \n",
      "        9 10 \n",
      "         10           \n",
      "         10 \n",
      "        10 9 \n",
      "       10 9 8 \n",
      "      10 9 8 7 \n",
      "     10 9 8 7 6 \n",
      "    10 9 8 7 6 5 \n",
      "   10 9 8 7 6 5 4 \n",
      "  10 9 8 7 6 5 4 3 \n",
      " 10 9 8 7 6 5 4 3 2 \n"
     ]
    }
   ],
   "source": [
    "n = int(input (\"Enter the number of rows \"))\n",
    "\n",
    "for i in range(n,0,-1):\n",
    "    for k in range (1,n-i+1):\n",
    "        print(\" \", end =\"\")\n",
    "    for j in range (n-i+1, n+1):\n",
    "        print(j , end =\" \")\n",
    "    if(i!=1):\n",
    "        print()\n",
    "for i in range (1,n+1):\n",
    "    for k in range (1, n-i+2):\n",
    "        print(\" \", end =\"\")\n",
    "    for j in range (n, n-i+1, -1):\n",
    "        print(j, end=\" \")\n",
    "    print()"
   ]
  },
  {
   "cell_type": "code",
   "execution_count": 9,
   "metadata": {},
   "outputs": [
    {
     "name": "stdout",
     "output_type": "stream",
     "text": [
      "1 2 3 4 5 6 7 8 9 10 \n",
      " 2 3 4 5 6 7 8 9 10 \n",
      "  3 4 5 6 7 8 9 10 \n",
      "   4 5 6 7 8 9 10 \n",
      "    5 6 7 8 9 10 \n",
      "     6 7 8 9 10 \n",
      "      7 8 9 10 \n",
      "       8 9 10 \n",
      "        9 10 \n",
      "         10 \n",
      "        10 9 \n",
      "       10 9 8 \n",
      "      10 9 8 7 \n",
      "     10 9 8 7 6 \n",
      "    10 9 8 7 6 5 \n",
      "   10 9 8 7 6 5 4 \n",
      "  10 9 8 7 6 5 4 3 \n",
      " 10 9 8 7 6 5 4 3 2 \n",
      "10 9 8 7 6 5 4 3 2 1 \n"
     ]
    }
   ],
   "source": [
    "for i in range (1,n+1):\n",
    "    for j in range (1,i):\n",
    "        print(\" \", end =\"\")\n",
    "    for k in range (i,n+1):\n",
    "        print(k, end =\" \")\n",
    "    print()\n",
    "\n",
    "for i in range (1,n):\n",
    "    for j in range (n-1, i, -1):\n",
    "        print(\" \", end =\"\")\n",
    "    for k in range (n, n-i-1,-1):\n",
    "        print(k, end =\" \")\n",
    "    print()"
   ]
  },
  {
   "cell_type": "code",
   "execution_count": 32,
   "metadata": {},
   "outputs": [
    {
     "name": "stdout",
     "output_type": "stream",
     "text": [
      "Enter n4\n",
      "0 \n",
      "0 1 \n",
      "0 1 2 \n",
      "0 1 2 3 \n"
     ]
    }
   ],
   "source": [
    "n = int(input(\"Enter n\"))\n",
    "stop= 0\n",
    "for i in range (1,n+1):\n",
    "    \n",
    "    for j in range(stop,stop-i,-1):\n",
    "        print(stop-j, end =\" \")\n",
    "    stop +=i\n",
    "    print()"
   ]
  }
 ],
 "metadata": {
  "kernelspec": {
   "display_name": "Python 3",
   "language": "python",
   "name": "python3"
  },
  "language_info": {
   "codemirror_mode": {
    "name": "ipython",
    "version": 3
   },
   "file_extension": ".py",
   "mimetype": "text/x-python",
   "name": "python",
   "nbconvert_exporter": "python",
   "pygments_lexer": "ipython3",
   "version": "3.8.5"
  }
 },
 "nbformat": 4,
 "nbformat_minor": 4
}
