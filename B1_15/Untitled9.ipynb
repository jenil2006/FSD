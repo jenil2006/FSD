{
 "cells": [
  {
   "cell_type": "code",
   "execution_count": 9,
   "metadata": {},
   "outputs": [
    {
     "name": "stdout",
     "output_type": "stream",
     "text": [
      "3\n",
      "3\n",
      "5 6 8\n",
      "p Q\n",
      "---------------------------\n",
      "3\n",
      "3\n",
      "5\n",
      "p Q\n"
     ]
    }
   ],
   "source": [
    "def f(a,*v,b=3,**vishal):\n",
    "    print(a)\n",
    "    print(b)\n",
    "    print(*v)\n",
    "    print(*vishal)\n",
    "    \n",
    "f(3,5,6,8,b=3,p=9,Q=\"vishal\")\n",
    "print(\"---------------------------\")\n",
    "f(3,5,p=9,Q=\"vishal\")\n",
    "#order\n",
    "#1 positional\n",
    "#2 multiple pos\n",
    "#3 keyword\n",
    "#4 multi keyword"
   ]
  },
  {
   "cell_type": "code",
   "execution_count": 13,
   "metadata": {},
   "outputs": [
    {
     "name": "stdout",
     "output_type": "stream",
     "text": [
      "Enter number: 102348\n",
      "Ans:  065423\n"
     ]
    }
   ],
   "source": [
    "n = (input(\"Enter number: \"))\n",
    "l= len(n)\n",
    "n=int(n)\n",
    "temp=n\n",
    "num=0\n",
    "sum=\"\"\n",
    "for i in range (1,l+1):\n",
    "    r = temp%10\n",
    "    if r ==8:\n",
    "        num=0\n",
    "    elif r==9:\n",
    "        num=1\n",
    "    else:\n",
    "        num = r+2\n",
    "    num = str(num)\n",
    "    sum = sum+ num\n",
    "    \n",
    "    temp =temp//10\n",
    "    \n",
    "    \n",
    "print (\"Ans: \", sum)"
   ]
  },
  {
   "cell_type": "code",
   "execution_count": 23,
   "metadata": {},
   "outputs": [
    {
     "name": "stdout",
     "output_type": "stream",
     "text": [
      "14\n"
     ]
    }
   ],
   "source": [
    "import random\n",
    "x= random.randint(1,100)\n",
    "print(x)"
   ]
  },
  {
   "cell_type": "code",
   "execution_count": 94,
   "metadata": {},
   "outputs": [
    {
     "name": "stdout",
     "output_type": "stream",
     "text": [
      "Enter number in range of 1-100 : 50\n",
      "guess lower\n",
      "Enter number in range of 1-100 : 20\n",
      "guess lower\n",
      "Enter number in range of 1-100 : 10\n",
      "guess higher\n",
      "Enter number in range of 1-100 : 12\n",
      "guess lower\n",
      "Enter number in range of 1-100 : 11\n",
      "You won  11\n"
     ]
    }
   ],
   "source": [
    "import random\n",
    "x = random.randint(1,100)\n",
    "num =0\n",
    "for i in range (1,5+1):\n",
    "    n =  (input (\"Enter number in range of 1-100 : \"))\n",
    "    l = len(n)\n",
    "    n= int(n)\n",
    "    if n==x:\n",
    "        c=1\n",
    "        break\n",
    "    if l==3 and n!=100:\n",
    "        print(\"not valid number\")\n",
    "    elif(l>3 or l<0):\n",
    "        print(\"not valid number\")\n",
    "    else:\n",
    "        if n==x:\n",
    "            c=1\n",
    "        else:\n",
    "            c=0\n",
    "        num =n\n",
    "        if num>x:\n",
    "            print(\"guess lower\")\n",
    "        elif (num<x):\n",
    "            print(\"guess higher\")\n",
    "            \n",
    "if c==1:\n",
    "    print(f\"You won \",x)\n",
    "else:\n",
    "    print(f\"You loss \",x)\n",
    "    "
   ]
  },
  {
   "cell_type": "code",
   "execution_count": 50,
   "metadata": {},
   "outputs": [
    {
     "name": "stdout",
     "output_type": "stream",
     "text": [
      "Enter num: 10\n",
      "1\n",
      "2\n",
      "3\n",
      "4\n",
      "5\n",
      "6\n",
      "7\n",
      "8\n",
      "9\n",
      "10\n"
     ]
    }
   ],
   "source": [
    "n = int (input (\"Enter num: \"))\n",
    "def f(c):\n",
    "    if (c==n+1):\n",
    "        return\n",
    "    print(c)\n",
    "    f(c+1)\n",
    "f(1)"
   ]
  },
  {
   "cell_type": "code",
   "execution_count": 54,
   "metadata": {},
   "outputs": [
    {
     "name": "stdout",
     "output_type": "stream",
     "text": [
      "10\n",
      "9\n",
      "8\n",
      "7\n",
      "6\n",
      "5\n",
      "4\n",
      "3\n",
      "2\n",
      "1\n"
     ]
    }
   ],
   "source": [
    "def rec(n):\n",
    "    if n==0:\n",
    "        return\n",
    "    print(n)\n",
    "    n=n-1\n",
    "    rec(n)\n",
    "    \n",
    "rec(10)"
   ]
  },
  {
   "cell_type": "code",
   "execution_count": 95,
   "metadata": {},
   "outputs": [
    {
     "name": "stdout",
     "output_type": "stream",
     "text": [
      "Enter number: 10\n",
      "0 1 1 2 3 5 8 13 21 34 "
     ]
    }
   ],
   "source": [
    "def fun(n):\n",
    "    if n==0 or n==1:\n",
    "        return n\n",
    "    return fun(n-1)+ fun(n-2)\n",
    "    \n",
    "num = int(input(\"Enter number: \"))\n",
    "for i in range(0, num):\n",
    "    print(fun(i), end =\" \")\n"
   ]
  },
  {
   "cell_type": "code",
   "execution_count": null,
   "metadata": {},
   "outputs": [],
   "source": [
    "imp\n",
    "oprator: /(float)\n",
    "and, or (no precedence)\n",
    "True =1\n",
    "False=0\n",
    "only when assign or compare\n",
    "None , \"\",0\n",
    "for i in range (5)  = range(0,5)\n",
    "range 1,5 = 1,2,3,4\n",
    "else i =4\n",
    "\n",
    "possitional\n",
    "keyword"
   ]
  }
 ],
 "metadata": {
  "kernelspec": {
   "display_name": "Python 3",
   "language": "python",
   "name": "python3"
  },
  "language_info": {
   "codemirror_mode": {
    "name": "ipython",
    "version": 3
   },
   "file_extension": ".py",
   "mimetype": "text/x-python",
   "name": "python",
   "nbconvert_exporter": "python",
   "pygments_lexer": "ipython3",
   "version": "3.8.5"
  }
 },
 "nbformat": 4,
 "nbformat_minor": 4
}
