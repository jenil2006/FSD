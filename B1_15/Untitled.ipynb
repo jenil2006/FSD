{
 "cells": [
  {
   "cell_type": "code",
   "execution_count": 26,
   "metadata": {},
   "outputs": [
    {
     "name": "stdout",
     "output_type": "stream",
     "text": [
      "Ent date28\n",
      "Ent month2\n",
      "Ent year2024\n",
      "the next date : 29:2:2024\n"
     ]
    }
   ],
   "source": [
    "date = int(input(\"Ent date\"))\n",
    "month = int(input(\"Ent month\"))\n",
    "year =int(input(\"Ent year\"))\n",
    "\n",
    "if (date>31 or date<1):\n",
    "    print(\"Invalid date\")\n",
    "if (month>12 or month<1):\n",
    "    print(\"Invalid month\")\n",
    "if(date >=1 and date<=29 and month!=2):\n",
    "    date = date+1\n",
    "if(date ==31 and ((month==1)or (month==3) or (month==5) or (month==7) or (month==8) or (month==10) or (month==12))):\n",
    "    if(month ==12):\n",
    "        month =1\n",
    "        date =1\n",
    "        year = year+1\n",
    "    else:\n",
    "        date =1\n",
    "        month =month+1\n",
    "elif(date ==30 and ((month==4)or(month==6)or (month==9) or (month==11))):\n",
    "    date = 1\n",
    "    month =month+1\n",
    "else:\n",
    "    if(month ==2):\n",
    "        if(year%4==0 and(year%400==0 or year%100!=0)):\n",
    "            if(date>29):\n",
    "                print(\"Invalid date for leap year\")\n",
    "            else:\n",
    "                if(date ==29):\n",
    "                    month = month+1\n",
    "                    date =1\n",
    "                else:\n",
    "                    date = date+1\n",
    "                        \n",
    "        elif(date>28):\n",
    "            print(\"Invalid date for none leap year\")\n",
    "        else:\n",
    "            if(date==28):\n",
    "                month =month +1\n",
    "                date =1\n",
    "            else:\n",
    "                date =date+1\n",
    "print(f\"the next date : {date}:{month}:{year}\")"
   ]
  },
  {
   "cell_type": "code",
   "execution_count": 36,
   "metadata": {},
   "outputs": [
    {
     "name": "stdout",
     "output_type": "stream",
     "text": [
      "1\n",
      "2\n",
      "3\n",
      "4\n",
      "5\n",
      "6\n",
      "7\n",
      "8\n",
      "9\n",
      "10\n",
      "1\n",
      "3\n",
      "5\n",
      "7\n",
      "9\n",
      "0\n",
      "2\n",
      "4\n",
      "6\n",
      "8\n",
      "10\n",
      "0\n",
      "5\n",
      "10\n",
      "15\n",
      "20\n",
      "10\n",
      "9\n",
      "8\n",
      "7\n",
      "6\n",
      "5\n",
      "4\n",
      "3\n",
      "2\n",
      "1\n"
     ]
    }
   ],
   "source": [
    "for i in range (1,11):#index starts from 0 hence 11 wont count\n",
    "    print(i)\n",
    "for i in range (1,11,2):#odd\n",
    "    print(i)\n",
    "for i in range (0,11,2):#even \n",
    "    print(i)\n",
    "for i in range (0,25,5):#%by 5\n",
    "    print(i)\n",
    "for i in range (10,0,-1):#reverse\n",
    "    print(i)\n"
   ]
  },
  {
   "cell_type": "code",
   "execution_count": 50,
   "metadata": {},
   "outputs": [
    {
     "name": "stdout",
     "output_type": "stream",
     "text": [
      "Ent number: 153\n",
      "arstrong\n"
     ]
    }
   ],
   "source": [
    "#user input - armstrong\n",
    "num = int(input(\"Ent number: \"))\n",
    "l = len(str(num))\n",
    "l= int(l)\n",
    "sum=0\n",
    "temp = num\n",
    "\n",
    "while(temp>0):\n",
    "    r= temp%10\n",
    "    sum = sum+ r**l\n",
    "   # print(sum)\n",
    "    temp=temp//10# converts into float that's why //\n",
    "\n",
    "if sum == num:\n",
    "    print(\"arstrong\")\n",
    "else:\n",
    "    print(\"not\")"
   ]
  },
  {
   "cell_type": "code",
   "execution_count": 53,
   "metadata": {},
   "outputs": [
    {
     "name": "stdout",
     "output_type": "stream",
     "text": [
      "16\n"
     ]
    }
   ],
   "source": [
    " # count of ams trom 1 to 10000\n",
    "c = 0\n",
    "for i in range (1 , 10001):\n",
    "    sum =0\n",
    "    temp =i\n",
    "    l = len(str(i))\n",
    "    l = int(l)\n",
    "    \n",
    "    while(temp>0):\n",
    "        r =temp%10\n",
    "        sum = sum + r**l\n",
    "        temp = temp//10\n",
    "    if sum==i:\n",
    "        c=c+1\n",
    "\n",
    "print(c)\n",
    "    "
   ]
  },
  {
   "cell_type": "raw",
   "metadata": {},
   "source": []
  },
  {
   "cell_type": "code",
   "execution_count": 64,
   "metadata": {},
   "outputs": [
    {
     "name": "stdout",
     "output_type": "stream",
     "text": [
      "Ent num: 123\n",
      "not\n",
      "321\n"
     ]
    }
   ],
   "source": [
    "n = int(input(\"Ent num: \"))\n",
    "l = len(str(n))\n",
    "l = int(l)\n",
    "sum =0\n",
    "temp = n\n",
    "while(l>0):\n",
    "    r = temp%10\n",
    "    sum = r*(10**(l-1))+sum\n",
    "    temp = temp//10\n",
    "    l= l-1\n",
    "if sum==n:\n",
    "    print(\"pelindrom\")\n",
    "else:\n",
    "    print(\"not\")\n",
    "print(sum)#reversed"
   ]
  },
  {
   "cell_type": "code",
   "execution_count": 68,
   "metadata": {},
   "outputs": [
    {
     "name": "stdout",
     "output_type": "stream",
     "text": [
      "1\n",
      "2\n",
      "3\n",
      "4\n",
      "5\n",
      "else\n",
      "5\n",
      "range(1, 6)\n"
     ]
    }
   ],
   "source": [
    "#replace 0 by 9\n",
    "for i in range(1,6):\n",
    "    print(i)\n",
    "else:\n",
    "    print(\"else\")\n",
    "    print(i)#last updated val\n",
    "\n",
    "print(range(1,6))"
   ]
  },
  {
   "cell_type": "code",
   "execution_count": 70,
   "metadata": {},
   "outputs": [
    {
     "name": "stdout",
     "output_type": "stream",
     "text": [
      "v\n",
      "i\n",
      "s\n",
      "h\n",
      "a\n",
      "l\n"
     ]
    }
   ],
   "source": [
    "for i in 'vishal':\n",
    "    print(i)"
   ]
  },
  {
   "cell_type": "code",
   "execution_count": 72,
   "metadata": {},
   "outputs": [
    {
     "name": "stdout",
     "output_type": "stream",
     "text": [
      "33\n"
     ]
    }
   ],
   "source": [
    "n=6\n",
    "for i in range(1,6):\n",
    "    if n%2==0:\n",
    "        n=n+3\n",
    "    elif n%3==0:\n",
    "        n=n+1\n",
    "    if n%4==0:\n",
    "        n+=2\n",
    "    if n%5 ==0:\n",
    "        n+=3\n",
    "    else:\n",
    "        n+=4\n",
    "       \n",
    "    \n",
    "print(n)    "
   ]
  },
  {
   "cell_type": "code",
   "execution_count": null,
   "metadata": {},
   "outputs": [],
   "source": []
  }
 ],
 "metadata": {
  "kernelspec": {
   "display_name": "Python 3",
   "language": "python",
   "name": "python3"
  },
  "language_info": {
   "codemirror_mode": {
    "name": "ipython",
    "version": 3
   },
   "file_extension": ".py",
   "mimetype": "text/x-python",
   "name": "python",
   "nbconvert_exporter": "python",
   "pygments_lexer": "ipython3",
   "version": "3.8.5"
  }
 },
 "nbformat": 4,
 "nbformat_minor": 4
}
