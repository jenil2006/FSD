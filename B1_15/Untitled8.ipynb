{
 "cells": [
  {
   "cell_type": "code",
   "execution_count": 6,
   "metadata": {},
   "outputs": [
    {
     "name": "stdout",
     "output_type": "stream",
     "text": [
      "(7, -1, 12, 0.75)\n",
      "7 -1 12 0.75\n"
     ]
    }
   ],
   "source": [
    "def calc(x,y):\n",
    "    sum =x+y\n",
    "    sub=x-y\n",
    "    mul=x*y\n",
    "    div =x/y\n",
    "    return sum,sub,mul,div#multiple values (tuple)\n",
    "z=calc(3,4)\n",
    "print(z)\n",
    "a,b,c,d =z\n",
    "print(a,b,c,d)"
   ]
  },
  {
   "cell_type": "code",
   "execution_count": 9,
   "metadata": {},
   "outputs": [
    {
     "name": "stdout",
     "output_type": "stream",
     "text": [
      "True\n"
     ]
    }
   ],
   "source": [
    "print(0%3==0)"
   ]
  },
  {
   "cell_type": "code",
   "execution_count": 11,
   "metadata": {},
   "outputs": [
    {
     "name": "stdout",
     "output_type": "stream",
     "text": [
      "vishal\n"
     ]
    }
   ],
   "source": [
    "a,b=5,7\n",
    "if a>6:\n",
    "    print(\"v\")\n",
    "elif(b>5):\n",
    "    print('vishal')\n",
    "else:\n",
    "    print(i)"
   ]
  },
  {
   "cell_type": "code",
   "execution_count": 14,
   "metadata": {},
   "outputs": [
    {
     "name": "stdout",
     "output_type": "stream",
     "text": [
      "6 7\n",
      "7 9\n",
      "7 12\n",
      "8 14\n",
      "8 17\n",
      "4 20\n",
      "10 22\n",
      "10 25\n",
      "11 27\n",
      "11 30\n",
      "12 37\n",
      "8 40\n",
      "14 42\n",
      "14 45\n",
      "15 52\n",
      "16 54\n",
      "16 57\n",
      "12 60\n",
      "18 67\n",
      "19 69\n",
      "19 72\n",
      "75\n"
     ]
    }
   ],
   "source": [
    "sum=0\n",
    "for i in range(1,15):\n",
    "    if i%4==0:\n",
    "        sum+=3\n",
    "        print(i,sum)\n",
    "        continue\n",
    "    i+=5\n",
    "    if i%3==0:\n",
    "        sum+=7\n",
    "        print(i,sum)\n",
    "        continue\n",
    "    else:\n",
    "        sum+=2\n",
    "        print(i,sum)\n",
    "    sum+=3\n",
    "    print(i,sum)\n",
    "else:\n",
    "    sum+=3\n",
    "print(sum)"
   ]
  },
  {
   "cell_type": "code",
   "execution_count": 17,
   "metadata": {},
   "outputs": [
    {
     "name": "stdout",
     "output_type": "stream",
     "text": [
      "<class 'int'>\n",
      "hi\n"
     ]
    }
   ],
   "source": [
    "def pr(x):\n",
    "    global v\n",
    "    msg =str(v)\n",
    "    print(type(v))\n",
    "    v=\"hi\"\n",
    "    print(v)\n",
    "global v\n",
    "v=6\n",
    "pr('u')"
   ]
  },
  {
   "cell_type": "code",
   "execution_count": 19,
   "metadata": {},
   "outputs": [
    {
     "name": "stdout",
     "output_type": "stream",
     "text": [
      "v10\n",
      "9\n"
     ]
    },
    {
     "ename": "UnboundLocalError",
     "evalue": "local variable 'v' referenced before assignment",
     "output_type": "error",
     "traceback": [
      "\u001b[1;31m---------------------------------------------------------------------------\u001b[0m",
      "\u001b[1;31mUnboundLocalError\u001b[0m                         Traceback (most recent call last)",
      "\u001b[1;32m<ipython-input-19-0b305cc9cd12>\u001b[0m in \u001b[0;36m<module>\u001b[1;34m\u001b[0m\n\u001b[0;32m     12\u001b[0m \u001b[0mv\u001b[0m\u001b[1;33m=\u001b[0m\u001b[1;34m\"v10\"\u001b[0m\u001b[1;33m\u001b[0m\u001b[1;33m\u001b[0m\u001b[0m\n\u001b[0;32m     13\u001b[0m \u001b[0mpr\u001b[0m\u001b[1;33m(\u001b[0m\u001b[0mv\u001b[0m\u001b[1;33m)\u001b[0m\u001b[1;33m\u001b[0m\u001b[1;33m\u001b[0m\u001b[0m\n\u001b[1;32m---> 14\u001b[1;33m \u001b[0mnb\u001b[0m\u001b[1;33m(\u001b[0m\u001b[1;34m'p'\u001b[0m\u001b[1;33m)\u001b[0m\u001b[1;33m\u001b[0m\u001b[1;33m\u001b[0m\u001b[0m\n\u001b[0m",
      "\u001b[1;32m<ipython-input-19-0b305cc9cd12>\u001b[0m in \u001b[0;36mnb\u001b[1;34m(y)\u001b[0m\n\u001b[0;32m      6\u001b[0m     \u001b[0mprint\u001b[0m\u001b[1;33m(\u001b[0m\u001b[0mv\u001b[0m\u001b[1;33m)\u001b[0m\u001b[1;33m\u001b[0m\u001b[1;33m\u001b[0m\u001b[0m\n\u001b[0;32m      7\u001b[0m \u001b[1;32mdef\u001b[0m \u001b[0mnb\u001b[0m\u001b[1;33m(\u001b[0m\u001b[0my\u001b[0m\u001b[1;33m)\u001b[0m\u001b[1;33m:\u001b[0m\u001b[1;33m\u001b[0m\u001b[1;33m\u001b[0m\u001b[0m\n\u001b[1;32m----> 8\u001b[1;33m     \u001b[0mprint\u001b[0m\u001b[1;33m(\u001b[0m\u001b[0mv\u001b[0m\u001b[1;33m)\u001b[0m\u001b[1;33m\u001b[0m\u001b[1;33m\u001b[0m\u001b[0m\n\u001b[0m\u001b[0;32m      9\u001b[0m     \u001b[0mv\u001b[0m\u001b[1;33m=\u001b[0m\u001b[1;34m\"nh\"\u001b[0m\u001b[1;33m\u001b[0m\u001b[1;33m\u001b[0m\u001b[0m\n\u001b[0;32m     10\u001b[0m     \u001b[0mprint\u001b[0m\u001b[1;33m(\u001b[0m\u001b[0mv\u001b[0m\u001b[1;33m)\u001b[0m\u001b[1;33m\u001b[0m\u001b[1;33m\u001b[0m\u001b[0m\n",
      "\u001b[1;31mUnboundLocalError\u001b[0m: local variable 'v' referenced before assignment"
     ]
    }
   ],
   "source": [
    "def pr(x):\n",
    "    global v\n",
    "    msg =str(v)\n",
    "    print(msg)\n",
    "    v=9\n",
    "    print(v)\n",
    "def nb(y):\n",
    "    print(v)\n",
    "    v=\"nh\"\n",
    "    print(v)\n",
    "global v\n",
    "v=\"v10\"\n",
    "pr(v)\n",
    "nb('p')"
   ]
  },
  {
   "cell_type": "code",
   "execution_count": 21,
   "metadata": {},
   "outputs": [
    {
     "name": "stdout",
     "output_type": "stream",
     "text": [
      "10vishal\n"
     ]
    }
   ],
   "source": [
    "def f():\n",
    "    print(\"vishal10\")\n",
    "def f():\n",
    "    print(\"10vishal\")\n",
    "    \n",
    "f()"
   ]
  },
  {
   "cell_type": "code",
   "execution_count": 23,
   "metadata": {},
   "outputs": [
    {
     "ename": "NameError",
     "evalue": "name 'g' is not defined",
     "output_type": "error",
     "traceback": [
      "\u001b[1;31m---------------------------------------------------------------------------\u001b[0m",
      "\u001b[1;31mNameError\u001b[0m                                 Traceback (most recent call last)",
      "\u001b[1;32m<ipython-input-23-7ca2ae932ef4>\u001b[0m in \u001b[0;36m<module>\u001b[1;34m\u001b[0m\n\u001b[1;32m----> 1\u001b[1;33m \u001b[0mg\u001b[0m\u001b[1;33m(\u001b[0m\u001b[1;33m)\u001b[0m\u001b[1;33m\u001b[0m\u001b[1;33m\u001b[0m\u001b[0m\n\u001b[0m\u001b[0;32m      2\u001b[0m \u001b[1;32mdef\u001b[0m \u001b[0mg\u001b[0m\u001b[1;33m(\u001b[0m\u001b[1;33m)\u001b[0m\u001b[1;33m:\u001b[0m\u001b[1;33m\u001b[0m\u001b[1;33m\u001b[0m\u001b[0m\n\u001b[0;32m      3\u001b[0m     \u001b[0mprint\u001b[0m\u001b[1;33m(\u001b[0m\u001b[1;34m\"li\"\u001b[0m\u001b[1;33m)\u001b[0m\u001b[1;33m\u001b[0m\u001b[1;33m\u001b[0m\u001b[0m\n",
      "\u001b[1;31mNameError\u001b[0m: name 'g' is not defined"
     ]
    }
   ],
   "source": [
    "g()\n",
    "def g():\n",
    "    print(\"li\")"
   ]
  },
  {
   "cell_type": "code",
   "execution_count": 25,
   "metadata": {},
   "outputs": [
    {
     "name": "stdout",
     "output_type": "stream",
     "text": [
      "0 2\n"
     ]
    }
   ],
   "source": [
    "sum=0\n",
    "count=0\n",
    "while count>15:\n",
    "    sum+=3\n",
    "    if sum==3:\n",
    "        count+=5\n",
    "    else:\n",
    "        count+=9\n",
    "else:\n",
    "    count+=2\n",
    "print(sum,count)"
   ]
  },
  {
   "cell_type": "code",
   "execution_count": 28,
   "metadata": {},
   "outputs": [
    {
     "name": "stdout",
     "output_type": "stream",
     "text": [
      "1if 5\n",
      "else 6\n",
      "1if 11\n",
      "else 12\n",
      "1if 17\n",
      "e 18\n",
      "18\n"
     ]
    }
   ],
   "source": [
    "x=0\n",
    "while x<15:\n",
    "    if x%3==0:\n",
    "        x+=5\n",
    "        print(\"1if\",x)\n",
    "        continue\n",
    "    if x%2==0:\n",
    "        x+=14\n",
    "        print(\"2if\",x)\n",
    "    else:\n",
    "        x+=1\n",
    "        print(\"else\",x)\n",
    "else:\n",
    "    x+=1\n",
    "    print(\"e\",x)\n",
    "print(x)"
   ]
  },
  {
   "cell_type": "code",
   "execution_count": 30,
   "metadata": {},
   "outputs": [
    {
     "name": "stdout",
     "output_type": "stream",
     "text": [
      "count is 1\n",
      "i is 6\n"
     ]
    }
   ],
   "source": [
    "for i in range(1,5):\n",
    "    if i%2==0:\n",
    "        count=i\n",
    "    elif i%3==0:\n",
    "        count+=5\n",
    "    count=1\n",
    "    if i==4:\n",
    "        i+=2\n",
    "        continue\n",
    "    else:\n",
    "        count=5\n",
    "else:\n",
    "    print(f\"count is {count}\")\n",
    "    print(f\"i is {i}\")"
   ]
  },
  {
   "cell_type": "code",
   "execution_count": 72,
   "metadata": {},
   "outputs": [
    {
     "name": "stdout",
     "output_type": "stream",
     "text": [
      "enter number32\n",
      "None\n"
     ]
    }
   ],
   "source": [
    "#happy numbers\n",
    "# n=32\n",
    "# 3^2+2^2=13\n",
    "# 1^2+3^2=10\n",
    "# 1^2+0^2=1 \n",
    "# if last ans =1 then its happy number\n",
    "# if last ans =4 then its sad num\n",
    "\n",
    "def fun(x):\n",
    "    temp =x\n",
    "    sum=0\n",
    "    while temp>0:\n",
    "        r = temp%10\n",
    "        sum= sum+ r**2\n",
    "        temp=temp//10\n",
    "        s=sum\n",
    "        \n",
    "    if s==1 :\n",
    "        return \"happy\"\n",
    "    elif s==4:\n",
    "        return \"sad\"\n",
    "    else:\n",
    "        fun(s)\n",
    "n = int(input(\"enter number\"))\n",
    "\n",
    "print(fun(n))"
   ]
  },
  {
   "cell_type": "code",
   "execution_count": 79,
   "metadata": {},
   "outputs": [
    {
     "name": "stdout",
     "output_type": "stream",
     "text": [
      "ent limit: 20\n",
      "a: 3 , b: 4 , c: 5\n",
      "a: 5 , b: 12 , c: 13\n",
      "a: 6 , b: 8 , c: 10\n",
      "a: 8 , b: 15 , c: 17\n",
      "a: 9 , b: 12 , c: 15\n",
      "a: 12 , b: 16 , c: 20\n"
     ]
    }
   ],
   "source": [
    "#pythagoras\n",
    "limit = int(input(\"ent limit: \"))\n",
    "\n",
    "for a in range (1,limit+1):\n",
    "    for b in range (1,limit+1):\n",
    "        for c in range (1,limit+1):\n",
    "            if (a**2+b**2 == c**2):\n",
    "                if (a<b):\n",
    "                    print (f\"a: {a} , b: {b} , c: {c}\")"
   ]
  },
  {
   "cell_type": "code",
   "execution_count": 84,
   "metadata": {},
   "outputs": [
    {
     "name": "stdout",
     "output_type": "stream",
     "text": [
      "Happy:  1\n",
      "Happy:  7\n",
      "Happy:  10\n",
      "Happy:  13\n",
      "Happy:  19\n",
      "Happy:  23\n",
      "Happy:  28\n",
      "Happy:  31\n",
      "Happy:  32\n",
      "Happy:  44\n",
      "Happy:  49\n",
      "Happy:  68\n",
      "Happy:  70\n",
      "Happy:  79\n",
      "Happy:  82\n",
      "Happy:  86\n",
      "Happy:  91\n",
      "Happy:  94\n",
      "Happy:  97\n",
      "Happy:  100\n",
      "Happy:  103\n",
      "Happy:  109\n",
      "Happy:  129\n",
      "Happy:  130\n",
      "Happy:  133\n",
      "Happy:  139\n",
      "Happy:  167\n",
      "Happy:  176\n",
      "Happy:  188\n",
      "Happy:  190\n",
      "Happy:  192\n",
      "Happy:  193\n",
      "Happy:  203\n",
      "Happy:  208\n",
      "Happy:  219\n",
      "Happy:  226\n",
      "Happy:  230\n",
      "Happy:  236\n",
      "Happy:  239\n",
      "Happy:  262\n",
      "Happy:  263\n",
      "Happy:  280\n",
      "Happy:  291\n",
      "Happy:  293\n",
      "Happy:  301\n",
      "Happy:  302\n",
      "Happy:  310\n",
      "Happy:  313\n",
      "Happy:  319\n",
      "Happy:  320\n",
      "Happy:  326\n",
      "Happy:  329\n",
      "Happy:  331\n",
      "Happy:  338\n",
      "Happy:  356\n",
      "Happy:  362\n",
      "Happy:  365\n",
      "Happy:  367\n",
      "Happy:  368\n",
      "Happy:  376\n",
      "Happy:  379\n",
      "Happy:  383\n",
      "Happy:  386\n",
      "Happy:  391\n",
      "Happy:  392\n",
      "Happy:  397\n",
      "Happy:  404\n",
      "Happy:  409\n",
      "Happy:  440\n",
      "Happy:  446\n",
      "Happy:  464\n",
      "Happy:  469\n",
      "Happy:  478\n",
      "Happy:  487\n",
      "Happy:  490\n",
      "Happy:  496\n",
      "Happy:  536\n",
      "Happy:  556\n",
      "Happy:  563\n",
      "Happy:  565\n",
      "Happy:  566\n",
      "Happy:  608\n",
      "Happy:  617\n",
      "Happy:  622\n",
      "Happy:  623\n",
      "Happy:  632\n",
      "Happy:  635\n",
      "Happy:  637\n",
      "Happy:  638\n",
      "Happy:  644\n",
      "Happy:  649\n",
      "Happy:  653\n",
      "Happy:  655\n",
      "Happy:  656\n",
      "Happy:  665\n",
      "Happy:  671\n",
      "Happy:  673\n",
      "Happy:  680\n",
      "Happy:  683\n",
      "Happy:  694\n",
      "Happy:  700\n",
      "Happy:  709\n",
      "Happy:  716\n",
      "Happy:  736\n",
      "Happy:  739\n",
      "Happy:  748\n",
      "Happy:  761\n",
      "Happy:  763\n",
      "Happy:  784\n",
      "Happy:  790\n",
      "Happy:  793\n",
      "Happy:  802\n",
      "Happy:  806\n",
      "Happy:  818\n",
      "Happy:  820\n",
      "Happy:  833\n",
      "Happy:  836\n",
      "Happy:  847\n",
      "Happy:  860\n",
      "Happy:  863\n",
      "Happy:  874\n",
      "Happy:  881\n",
      "Happy:  888\n",
      "Happy:  899\n",
      "Happy:  901\n",
      "Happy:  904\n",
      "Happy:  907\n",
      "Happy:  910\n",
      "Happy:  912\n",
      "Happy:  913\n",
      "Happy:  921\n",
      "Happy:  923\n",
      "Happy:  931\n",
      "Happy:  932\n",
      "Happy:  937\n",
      "Happy:  940\n",
      "Happy:  946\n",
      "Happy:  964\n",
      "Happy:  970\n",
      "Happy:  973\n",
      "Happy:  989\n",
      "Happy:  998\n",
      "Happy:  1000\n"
     ]
    }
   ],
   "source": [
    "def fun(x):\n",
    "    temp=x\n",
    "    sum=0\n",
    "    while (temp>0):\n",
    "        r = temp%10\n",
    "        sum=sum+r**2\n",
    "        temp=temp//10\n",
    "        \n",
    "    return sum\n",
    "\n",
    "for i in range (1,1001):\n",
    "    temp =i\n",
    "    while(fun(temp)!=1 and fun(temp)!=4):\n",
    "        temp=fun(temp)\n",
    "    if fun(temp)==1:\n",
    "        print(\"Happy: \",i)"
   ]
  },
  {
   "cell_type": "code",
   "execution_count": null,
   "metadata": {},
   "outputs": [],
   "source": [
    "# monday 1 start 1...\n",
    "# monday 2 start 2...\n",
    "# monday 3 start 3...\n",
    "d =int(input(\"enter days: \"))\n",
    "sum=0\n",
    "c1=1\n",
    "for i in range (1,d+1):\n",
    "    for j in range (1,8):\n",
    "        if(c1==1):\n",
    "            sum = sum+j\n",
    "    c1++\n",
    "    "
   ]
  }
 ],
 "metadata": {
  "kernelspec": {
   "display_name": "Python 3",
   "language": "python",
   "name": "python3"
  },
  "language_info": {
   "codemirror_mode": {
    "name": "ipython",
    "version": 3
   },
   "file_extension": ".py",
   "mimetype": "text/x-python",
   "name": "python",
   "nbconvert_exporter": "python",
   "pygments_lexer": "ipython3",
   "version": "3.8.5"
  }
 },
 "nbformat": 4,
 "nbformat_minor": 4
}
