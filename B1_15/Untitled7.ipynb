{
 "cells": [
  {
   "cell_type": "code",
   "execution_count": 13,
   "metadata": {},
   "outputs": [
    {
     "name": "stdout",
     "output_type": "stream",
     "text": [
      "A\n",
      "AB\n",
      "ABC\n",
      "ABCD\n",
      "ABCDE\n"
     ]
    }
   ],
   "source": [
    "for i in range (1,6):\n",
    "    c =65\n",
    "    for j in range (1,i+1):\n",
    "        print(chr(c), end =\"\")\n",
    "        c=c+1\n",
    "    print()\n",
    "    \n"
   ]
  },
  {
   "cell_type": "code",
   "execution_count": 30,
   "metadata": {},
   "outputs": [
    {
     "name": "stdout",
     "output_type": "stream",
     "text": [
      "None\n",
      "[1, 2, 3, 4]\n",
      "<class 'function'>\n",
      "even\n",
      "<class 'str'>\n",
      "<class 'str'>\n",
      "is even fun\n"
     ]
    }
   ],
   "source": [
    "l = [1,2,3]\n",
    "print(l.append(4))\n",
    "print(l)\n",
    "#append : appends end of the list\n",
    "\n",
    "#syntex of fun\n",
    "#name : snake case\n",
    "'''heyy'''\n",
    "def is_even(i):\n",
    "    '''is even fun'''\n",
    "    if i%2 ==0:\n",
    "        return 'even'\n",
    "    else:\n",
    "        return 'odd'\n",
    "print(type(is_even))#function\n",
    "x=is_even(2)\n",
    "print(x)\n",
    "print(type(x))#str\n",
    "print(type(is_even(10)))#str\n",
    "print(is_even.__doc__)#calls doc string (in fun) ,None : no doc str"
   ]
  },
  {
   "cell_type": "code",
   "execution_count": 36,
   "metadata": {},
   "outputs": [
    {
     "name": "stdout",
     "output_type": "stream",
     "text": [
      "vishal10\n",
      "pagal hai kya\n"
     ]
    }
   ],
   "source": [
    "#w p , w r\n",
    "def f(v):\n",
    "    x=\"vishal\"\n",
    "    if(type(v)!= str):\n",
    "        return(\"pagal hai kya\")\n",
    "    return x+v\n",
    "#print(f(10)) type error\n",
    "print(f(\"10\"))\n",
    "print(f(10))"
   ]
  },
  {
   "cell_type": "code",
   "execution_count": 37,
   "metadata": {},
   "outputs": [
    {
     "data": {
      "text/plain": [
       "'\\nfunction\\n\\nparameter         return\\n    y                 y\\n    y                 n\\n    n                 y\\n    n                 n\\n'"
      ]
     },
     "execution_count": 37,
     "metadata": {},
     "output_type": "execute_result"
    }
   ],
   "source": [
    "'''\n",
    "function\n",
    "\n",
    "parameter         return\n",
    "    y                 y\n",
    "    y                 n\n",
    "    n                 y\n",
    "    n                 n\n",
    "'''"
   ]
  },
  {
   "cell_type": "code",
   "execution_count": 41,
   "metadata": {},
   "outputs": [
    {
     "name": "stdout",
     "output_type": "stream",
     "text": [
      "7\n",
      "None\n",
      "7\n",
      "False\n",
      "7\n"
     ]
    }
   ],
   "source": [
    "def f(x,y):\n",
    "    sum =x+y\n",
    "    print(sum)\n",
    "    \n",
    "x= f(3,4)\n",
    "print(x)#prints return type of function: None (w p , w/o r)\n",
    "sum =7\n",
    "print(sum==f(3,4))# None==7\n",
    "if sum == f(3,4):\n",
    "    print(\"Ans\")"
   ]
  },
  {
   "cell_type": "code",
   "execution_count": 43,
   "metadata": {},
   "outputs": [
    {
     "name": "stdout",
     "output_type": "stream",
     "text": [
      "hii\n"
     ]
    }
   ],
   "source": [
    "#w/o p , w r\n",
    "def f():\n",
    "    return \"hii\"\n",
    "\n",
    "print(f())"
   ]
  },
  {
   "cell_type": "code",
   "execution_count": 46,
   "metadata": {},
   "outputs": [
    {
     "name": "stdout",
     "output_type": "stream",
     "text": [
      "hii\n",
      "None\n"
     ]
    }
   ],
   "source": [
    "#w/o p , w/o r\n",
    "\n",
    "def f():\n",
    "    print(\"hii\")\n",
    "    \n",
    "print(f())# prints None ,having no return"
   ]
  },
  {
   "cell_type": "code",
   "execution_count": 47,
   "metadata": {},
   "outputs": [
    {
     "ename": "SyntaxError",
     "evalue": "invalid syntax (<ipython-input-47-8a443ab56178>, line 1)",
     "output_type": "error",
     "traceback": [
      "\u001b[1;36m  File \u001b[1;32m\"<ipython-input-47-8a443ab56178>\"\u001b[1;36m, line \u001b[1;32m1\u001b[0m\n\u001b[1;33m    argument :\u001b[0m\n\u001b[1;37m              ^\u001b[0m\n\u001b[1;31mSyntaxError\u001b[0m\u001b[1;31m:\u001b[0m invalid syntax\n"
     ]
    }
   ],
   "source": [
    "argument :\n",
    "   1 position\n",
    "   2 keyword\n",
    "   3 default\n",
    "    "
   ]
  },
  {
   "cell_type": "code",
   "execution_count": 49,
   "metadata": {},
   "outputs": [
    {
     "data": {
      "text/plain": [
       "81"
      ]
     },
     "execution_count": 49,
     "metadata": {},
     "output_type": "execute_result"
    }
   ],
   "source": [
    "#position\n",
    "def pow(a,b):\n",
    "    return a**b\n",
    "\n",
    "pow(3,4)"
   ]
  },
  {
   "cell_type": "code",
   "execution_count": 64,
   "metadata": {},
   "outputs": [
    {
     "name": "stdout",
     "output_type": "stream",
     "text": [
      "125\n"
     ]
    },
    {
     "ename": "TypeError",
     "evalue": "'a' is an invalid keyword argument for print()",
     "output_type": "error",
     "traceback": [
      "\u001b[1;31m---------------------------------------------------------------------------\u001b[0m",
      "\u001b[1;31mTypeError\u001b[0m                                 Traceback (most recent call last)",
      "\u001b[1;32m<ipython-input-64-842573ab01b0>\u001b[0m in \u001b[0;36m<module>\u001b[1;34m\u001b[0m\n\u001b[0;32m      4\u001b[0m \u001b[0mpow\u001b[0m\u001b[1;33m(\u001b[0m\u001b[1;36m5\u001b[0m\u001b[1;33m,\u001b[0m\u001b[1;36m1\u001b[0m\u001b[1;33m)\u001b[0m\u001b[1;33m\u001b[0m\u001b[1;33m\u001b[0m\u001b[0m\n\u001b[0;32m      5\u001b[0m \u001b[0mprint\u001b[0m\u001b[1;33m(\u001b[0m\u001b[0mpow\u001b[0m\u001b[1;33m(\u001b[0m\u001b[1;36m5\u001b[0m\u001b[1;33m)\u001b[0m\u001b[1;33m)\u001b[0m\u001b[1;31m# default parameter = b=3 , 5**3\u001b[0m\u001b[1;33m\u001b[0m\u001b[1;33m\u001b[0m\u001b[0m\n\u001b[1;32m----> 6\u001b[1;33m \u001b[0mprint\u001b[0m\u001b[1;33m(\u001b[0m\u001b[0ma\u001b[0m\u001b[1;33m=\u001b[0m\u001b[1;36m5\u001b[0m\u001b[1;33m,\u001b[0m \u001b[0mb\u001b[0m\u001b[1;33m=\u001b[0m\u001b[1;36m4\u001b[0m\u001b[1;33m)\u001b[0m\u001b[1;31m# error\u001b[0m\u001b[1;33m\u001b[0m\u001b[1;33m\u001b[0m\u001b[0m\n\u001b[0m",
      "\u001b[1;31mTypeError\u001b[0m: 'a' is an invalid keyword argument for print()"
     ]
    }
   ],
   "source": [
    "def pow(a,b=3):\n",
    "    return a**b\n",
    "\n",
    "pow(5,1)\n",
    "print(pow(5))# default parameter = b=3 , 5**3\n",
    "print(a=5, b=4)# error"
   ]
  },
  {
   "cell_type": "code",
   "execution_count": 54,
   "metadata": {},
   "outputs": [
    {
     "ename": "SyntaxError",
     "evalue": "non-default argument follows default argument (<ipython-input-54-bbc7351f4e13>, line 1)",
     "output_type": "error",
     "traceback": [
      "\u001b[1;36m  File \u001b[1;32m\"<ipython-input-54-bbc7351f4e13>\"\u001b[1;36m, line \u001b[1;32m1\u001b[0m\n\u001b[1;33m    def pow(a=5,b):\u001b[0m\n\u001b[1;37m            ^\u001b[0m\n\u001b[1;31mSyntaxError\u001b[0m\u001b[1;31m:\u001b[0m non-default argument follows default argument\n"
     ]
    }
   ],
   "source": [
    "def pow(a=5,b):\n",
    "    return a**b\n",
    "\n",
    "pow(3,5)# confused while alocationg a or b?\n",
    "pow(1)# syntax error : non-default argument follows default argument\n",
    "#keyword arg always follows positional arg\n",
    "#para fix : def\n",
    "\n",
    "# pow(pos, key)\n",
    "\n",
    "#keyword: a=5"
   ]
  },
  {
   "cell_type": "code",
   "execution_count": 61,
   "metadata": {},
   "outputs": [
    {
     "name": "stdout",
     "output_type": "stream",
     "text": [
      "125\n",
      "125\n"
     ]
    }
   ],
   "source": [
    "def pow(a,b):\n",
    "    return a**b\n",
    "\n",
    "print(pow(a=5,b=3))#keyword\n",
    "print(pow(b=3,a=5))"
   ]
  },
  {
   "cell_type": "code",
   "execution_count": 59,
   "metadata": {},
   "outputs": [
    {
     "name": "stdout",
     "output_type": "stream",
     "text": [
      "24.15\n"
     ]
    }
   ],
   "source": [
    "def total(p,f,dm,de):\n",
    "    return (p*5+ f*5+ dm*6 + de*6)/20\n",
    "\n",
    "print(total(f=20, de=21, p=25, dm=22))#keyword"
   ]
  },
  {
   "cell_type": "code",
   "execution_count": 66,
   "metadata": {},
   "outputs": [
    {
     "name": "stdout",
     "output_type": "stream",
     "text": [
      "10  local\n",
      "5  global\n"
     ]
    }
   ],
   "source": [
    "def f(y):\n",
    "    x=y\n",
    "    x+=x\n",
    "    print(x, \" local\")#variable in fun = local\n",
    "    \n",
    "x=5\n",
    "f(x)\n",
    "print(x,\" global\")#out of ev global"
   ]
  },
  {
   "cell_type": "code",
   "execution_count": 70,
   "metadata": {},
   "outputs": [
    {
     "name": "stdout",
     "output_type": "stream",
     "text": [
      "10  local\n",
      "10  global\n"
     ]
    }
   ],
   "source": [
    "def f(y):\n",
    "    # need to: global x otherwise #UnboundLocalError   \n",
    "    global x\n",
    "    x+=x\n",
    "    print(x, \" local\")#variable in fun = local\n",
    "    \n",
    "x=5\n",
    "f(x)\n",
    "print(x,\" global\")#out of ev global\n",
    "\n"
   ]
  },
  {
   "cell_type": "code",
   "execution_count": 71,
   "metadata": {},
   "outputs": [
    {
     "name": "stdout",
     "output_type": "stream",
     "text": [
      "10  local\n",
      "140721189496896\n",
      "10  global\n",
      "140721189496896\n"
     ]
    }
   ],
   "source": [
    "def f(y):\n",
    "    # need to: global x otherwise #UnboundLocalError   \n",
    "    global x\n",
    "    x+=x\n",
    "    print(x, \" local\")#variable in fun = local\n",
    "    print(id(x))\n",
    "    \n",
    "x=5\n",
    "f(x)\n",
    "print(x,\" global\")#out of ev global\n",
    "print(id(x))\n",
    "#x has same id"
   ]
  },
  {
   "cell_type": "code",
   "execution_count": 75,
   "metadata": {},
   "outputs": [
    {
     "name": "stdout",
     "output_type": "stream",
     "text": [
      "60\n",
      "(3, 4)\n",
      "<class 'tuple'>\n",
      "None\n",
      "(3, 4, 5)\n",
      "<class 'tuple'>\n",
      "None\n"
     ]
    }
   ],
   "source": [
    "def f(a,b,c):\n",
    "    return a*b*c\n",
    "\n",
    "print(f(3,4,5))\n",
    "\n",
    "def multi(*args):\n",
    "    print(args)#(3,4,5)\n",
    "    print(type(args))#tuple\n",
    "    \n",
    "print(multi(3,4))\n",
    "print(multi(3,4,5))"
   ]
  },
  {
   "cell_type": "code",
   "execution_count": 77,
   "metadata": {},
   "outputs": [
    {
     "name": "stdout",
     "output_type": "stream",
     "text": [
      "840\n"
     ]
    }
   ],
   "source": [
    "def multiple(*arguments):\n",
    "    a =1\n",
    "    for i in arguments:\n",
    "        a=a*i\n",
    "    return a\n",
    "print(multiple(1,4,5,6,7))"
   ]
  },
  {
   "cell_type": "code",
   "execution_count": 83,
   "metadata": {},
   "outputs": [
    {
     "name": "stdout",
     "output_type": "stream",
     "text": [
      "{'a': 5, 'b': 3, 'c': 7}\n",
      "<class 'dict'>\n",
      "key:\n",
      "a\n",
      "b\n",
      "c\n",
      "item:\n",
      "('a', 5)\n",
      "('b', 3)\n",
      "('c', 7)\n",
      "value:\n",
      "5\n",
      "3\n",
      "7\n"
     ]
    }
   ],
   "source": [
    "def f(**kwargs):\n",
    "    print(kwargs)\n",
    "    print(type(kwargs))#keyword args : type (dict)\n",
    "    print(\"key:\")\n",
    "    for i in kwargs:\n",
    "        print(i)\n",
    "    print(\"item:\")\n",
    "    for i in kwargs.items():\n",
    "        print(i)\n",
    "    print(\"value:\")\n",
    "    for i in kwargs.values():\n",
    "        print(i)\n",
    "        \n",
    "f(a=5,b=3,c=7)"
   ]
  },
  {
   "cell_type": "code",
   "execution_count": 87,
   "metadata": {},
   "outputs": [
    {
     "ename": "SyntaxError",
     "evalue": "invalid syntax (<ipython-input-87-9a5e56976d2a>, line 1)",
     "output_type": "error",
     "traceback": [
      "\u001b[1;36m  File \u001b[1;32m\"<ipython-input-87-9a5e56976d2a>\"\u001b[1;36m, line \u001b[1;32m1\u001b[0m\n\u001b[1;33m    def f(**kwargs,c=7#invalid syntax\u001b[0m\n\u001b[1;37m                   ^\u001b[0m\n\u001b[1;31mSyntaxError\u001b[0m\u001b[1;31m:\u001b[0m invalid syntax\n"
     ]
    }
   ],
   "source": [
    "def f(**kwargs,c=7#invalid syntax\n",
    "):\n",
    "    print(kwargs)\n",
    "    print(type(kwargs))#keyword args : type (dict)\n",
    "    print(\"key:\")\n",
    "    for i in kwargs:\n",
    "        print(i)\n",
    "    print(\"item:\")\n",
    "    for i in kwargs.items():\n",
    "        print(i)\n",
    "    print(\"value:\")\n",
    "    for i in kwargs.values():\n",
    "        print(i)\n",
    "        \n",
    "f(a=5,b=3,c=7)"
   ]
  },
  {
   "cell_type": "code",
   "execution_count": 88,
   "metadata": {},
   "outputs": [
    {
     "name": "stdout",
     "output_type": "stream",
     "text": [
      "{'a': 5, 'b': 3}\n",
      "<class 'dict'>\n",
      "key:\n",
      "a\n",
      "b\n",
      "item:\n",
      "('a', 5)\n",
      "('b', 3)\n",
      "value:\n",
      "5\n",
      "3\n"
     ]
    }
   ],
   "source": [
    "def f(c=7,**kwargs):\n",
    "    #c=7 def arg (not part of dict)\n",
    "    print(kwargs)\n",
    "    print(type(kwargs))#keyword args : type (dict)\n",
    "    print(\"key:\")\n",
    "    for i in kwargs:\n",
    "        print(i)\n",
    "    print(\"item:\")\n",
    "    for i in kwargs.items():\n",
    "        print(i)\n",
    "    print(\"value:\")\n",
    "    for i in kwargs.values():\n",
    "        print(i)\n",
    "        \n",
    "f(a=5,b=3,c=7)"
   ]
  },
  {
   "cell_type": "code",
   "execution_count": 101,
   "metadata": {},
   "outputs": [
    {
     "name": "stdout",
     "output_type": "stream",
     "text": [
      "f\n"
     ]
    },
    {
     "ename": "TypeError",
     "evalue": "'str' object is not callable",
     "output_type": "error",
     "traceback": [
      "\u001b[1;31m---------------------------------------------------------------------------\u001b[0m",
      "\u001b[1;31mTypeError\u001b[0m                                 Traceback (most recent call last)",
      "\u001b[1;32m<ipython-input-101-a984179bcd64>\u001b[0m in \u001b[0;36m<module>\u001b[1;34m\u001b[0m\n\u001b[0;32m      7\u001b[0m \u001b[1;31m#print(g())     # g is not defined\u001b[0m\u001b[1;33m\u001b[0m\u001b[1;33m\u001b[0m\u001b[1;33m\u001b[0m\u001b[0m\n\u001b[0;32m      8\u001b[0m \u001b[1;31m#print(f(g()))  # g is not defined\u001b[0m\u001b[1;33m\u001b[0m\u001b[1;33m\u001b[0m\u001b[1;33m\u001b[0m\u001b[0m\n\u001b[1;32m----> 9\u001b[1;33m \u001b[0mprint\u001b[0m\u001b[1;33m(\u001b[0m\u001b[0mf\u001b[0m\u001b[1;33m(\u001b[0m\u001b[1;36m10\u001b[0m\u001b[1;33m)\u001b[0m\u001b[1;33m(\u001b[0m\u001b[1;33m)\u001b[0m\u001b[1;33m)\u001b[0m\u001b[1;33m\u001b[0m\u001b[1;33m\u001b[0m\u001b[0m\n\u001b[0m\u001b[0;32m     10\u001b[0m \u001b[0mprint\u001b[0m\u001b[1;33m(\u001b[0m\u001b[0mf\u001b[0m\u001b[1;33m(\u001b[0m\u001b[1;36m10\u001b[0m\u001b[1;33m)\u001b[0m\u001b[1;33m.\u001b[0m\u001b[0mg\u001b[0m\u001b[1;33m(\u001b[0m\u001b[1;33m)\u001b[0m\u001b[1;33m)\u001b[0m\u001b[1;31m#AttributeError: 'str' object has no attribute 'g'\u001b[0m\u001b[1;33m\u001b[0m\u001b[1;33m\u001b[0m\u001b[0m\n",
      "\u001b[1;31mTypeError\u001b[0m: 'str' object is not callable"
     ]
    }
   ],
   "source": [
    "def f(x):\n",
    "    def g():\n",
    "        return(\"g\")\n",
    "    return(\"f\")\n",
    "    \n",
    "print(f(10))    #f\n",
    "#print(g())     # g is not defined\n",
    "#print(f(g()))  # g is not defined\n",
    "print(f(10).g())#AttributeError: 'str' object has no attribute 'g'"
   ]
  },
  {
   "cell_type": "code",
   "execution_count": 102,
   "metadata": {},
   "outputs": [
    {
     "name": "stdout",
     "output_type": "stream",
     "text": [
      "7\n"
     ]
    }
   ],
   "source": [
    "def f():\n",
    "    def g(a,b):\n",
    "        return a+b\n",
    "    return g\n",
    "\n",
    "val= f()(3,4)\n",
    "print(val)"
   ]
  },
  {
   "cell_type": "code",
   "execution_count": 104,
   "metadata": {},
   "outputs": [
    {
     "name": "stdout",
     "output_type": "stream",
     "text": [
      "b\n",
      "a\n",
      "None\n"
     ]
    }
   ],
   "source": [
    "#fun as arg\n",
    "\n",
    "def fun_a():\n",
    "    print(\"a\")\n",
    "def fun_b(z):\n",
    "    print(\"b\")\n",
    "    return z()\n",
    "\n",
    "\n",
    "print(fun_b(fun_a))"
   ]
  },
  {
   "cell_type": "code",
   "execution_count": null,
   "metadata": {},
   "outputs": [],
   "source": []
  }
 ],
 "metadata": {
  "kernelspec": {
   "display_name": "Python 3",
   "language": "python",
   "name": "python3"
  },
  "language_info": {
   "codemirror_mode": {
    "name": "ipython",
    "version": 3
   },
   "file_extension": ".py",
   "mimetype": "text/x-python",
   "name": "python",
   "nbconvert_exporter": "python",
   "pygments_lexer": "ipython3",
   "version": "3.8.5"
  }
 },
 "nbformat": 4,
 "nbformat_minor": 4
}
