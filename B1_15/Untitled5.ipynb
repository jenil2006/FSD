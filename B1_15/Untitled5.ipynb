{
 "cells": [
  {
   "cell_type": "code",
   "execution_count": 8,
   "metadata": {},
   "outputs": [
    {
     "ename": "KeyboardInterrupt",
     "evalue": "",
     "output_type": "error",
     "traceback": [
      "\u001b[1;31m---------------------------------------------------------------------------\u001b[0m",
      "\u001b[1;31mKeyboardInterrupt\u001b[0m                         Traceback (most recent call last)",
      "\u001b[1;32m<ipython-input-8-9fdf152866ce>\u001b[0m in \u001b[0;36m<module>\u001b[1;34m\u001b[0m\n\u001b[0;32m      6\u001b[0m     \u001b[1;32mwhile\u001b[0m \u001b[0mnum\u001b[0m\u001b[1;33m>=\u001b[0m\u001b[1;36m0\u001b[0m\u001b[1;33m:\u001b[0m\u001b[1;33m\u001b[0m\u001b[1;33m\u001b[0m\u001b[0m\n\u001b[0;32m      7\u001b[0m         \u001b[0mfact\u001b[0m \u001b[1;33m=\u001b[0m\u001b[1;36m1\u001b[0m\u001b[1;33m\u001b[0m\u001b[1;33m\u001b[0m\u001b[0m\n\u001b[1;32m----> 8\u001b[1;33m         \u001b[0mr\u001b[0m \u001b[1;33m=\u001b[0m \u001b[0mnum\u001b[0m\u001b[1;33m%\u001b[0m\u001b[1;36m10\u001b[0m\u001b[1;33m\u001b[0m\u001b[1;33m\u001b[0m\u001b[0m\n\u001b[0m\u001b[0;32m      9\u001b[0m         \u001b[1;32mwhile\u001b[0m \u001b[0mr\u001b[0m\u001b[1;33m>\u001b[0m\u001b[1;36m0\u001b[0m\u001b[1;33m:\u001b[0m\u001b[1;33m\u001b[0m\u001b[1;33m\u001b[0m\u001b[0m\n\u001b[0;32m     10\u001b[0m             \u001b[0mfact\u001b[0m \u001b[1;33m=\u001b[0m \u001b[0mfact\u001b[0m \u001b[1;33m*\u001b[0m\u001b[0mr\u001b[0m\u001b[1;33m\u001b[0m\u001b[1;33m\u001b[0m\u001b[0m\n",
      "\u001b[1;31mKeyboardInterrupt\u001b[0m: "
     ]
    }
   ],
   "source": [
    "#print strong number in range 1 -10000\n",
    "#strong no 123= 1!+2!+3!\n",
    "for i in range (1,1000):\n",
    "    sum =0\n",
    "    num = i\n",
    "    while num>=0:\n",
    "        fact =1\n",
    "        r = num%10\n",
    "        while r>0:\n",
    "            fact = fact *r\n",
    "            r = r-1\n",
    "        sum = sum+r\n",
    "        num = num//10\n",
    "    if sum == i:\n",
    "        print(i)\n",
    "    "
   ]
  },
  {
   "cell_type": "code",
   "execution_count": 26,
   "metadata": {},
   "outputs": [
    {
     "ename": "KeyboardInterrupt",
     "evalue": "",
     "output_type": "error",
     "traceback": [
      "\u001b[1;31m---------------------------------------------------------------------------\u001b[0m",
      "\u001b[1;31mKeyboardInterrupt\u001b[0m                         Traceback (most recent call last)",
      "\u001b[1;32m<ipython-input-26-9fdf152866ce>\u001b[0m in \u001b[0;36m<module>\u001b[1;34m\u001b[0m\n\u001b[0;32m     10\u001b[0m             \u001b[0mfact\u001b[0m \u001b[1;33m=\u001b[0m \u001b[0mfact\u001b[0m \u001b[1;33m*\u001b[0m\u001b[0mr\u001b[0m\u001b[1;33m\u001b[0m\u001b[1;33m\u001b[0m\u001b[0m\n\u001b[0;32m     11\u001b[0m             \u001b[0mr\u001b[0m \u001b[1;33m=\u001b[0m \u001b[0mr\u001b[0m\u001b[1;33m-\u001b[0m\u001b[1;36m1\u001b[0m\u001b[1;33m\u001b[0m\u001b[1;33m\u001b[0m\u001b[0m\n\u001b[1;32m---> 12\u001b[1;33m         \u001b[0msum\u001b[0m \u001b[1;33m=\u001b[0m \u001b[0msum\u001b[0m\u001b[1;33m+\u001b[0m\u001b[0mr\u001b[0m\u001b[1;33m\u001b[0m\u001b[1;33m\u001b[0m\u001b[0m\n\u001b[0m\u001b[0;32m     13\u001b[0m         \u001b[0mnum\u001b[0m \u001b[1;33m=\u001b[0m \u001b[0mnum\u001b[0m\u001b[1;33m//\u001b[0m\u001b[1;36m10\u001b[0m\u001b[1;33m\u001b[0m\u001b[1;33m\u001b[0m\u001b[0m\n\u001b[0;32m     14\u001b[0m     \u001b[1;32mif\u001b[0m \u001b[0msum\u001b[0m \u001b[1;33m==\u001b[0m \u001b[0mi\u001b[0m\u001b[1;33m:\u001b[0m\u001b[1;33m\u001b[0m\u001b[1;33m\u001b[0m\u001b[0m\n",
      "\u001b[1;31mKeyboardInterrupt\u001b[0m: "
     ]
    }
   ],
   "source": [
    "#print strong number in range 1 -10000\n",
    "#strong no 123= 1!+2!+3!\n",
    "for i in range (1,1000):\n",
    "    sum =0\n",
    "    num = i\n",
    "    while num>=0:\n",
    "        fact =1\n",
    "        r = num%10\n",
    "        while r>0:\n",
    "            fact = fact *r\n",
    "            r = r-1\n",
    "        sum = sum+r\n",
    "        num = num//10\n",
    "    if sum == i:\n",
    "        print(i)\n",
    "    "
   ]
  },
  {
   "cell_type": "code",
   "execution_count": 31,
   "metadata": {},
   "outputs": [
    {
     "name": "stdout",
     "output_type": "stream",
     "text": [
      "Ent current hr: 12\n",
      "Ent am/pm: am\n",
      "Ent hrs to add: 2\n",
      "Total time : 2 am\n"
     ]
    }
   ],
   "source": [
    "#time\n",
    "cur_hr = int(input(\"Ent current hr: \"))\n",
    "cur_type = input(\"Ent am/pm: \")\n",
    "add_hrs = int(input(\"Ent hrs to add: \"))\n",
    "\n",
    "total = cur_hr + add_hrs\n",
    "\n",
    "if total>12:\n",
    "    while total>12:\n",
    "        total = total-12\n",
    "        if cur_hr!=12:\n",
    "            if cur_type == \"am\":\n",
    "                cur_type = \"pm\"\n",
    "            else: \n",
    "                cur_type =\"am\"\n",
    "    \n",
    "    print(f\"Total time : {total} {cur_type}\")    \n",
    "        \n",
    "else: \n",
    "    print (f\"Total time : {total} {cur_type}\")"
   ]
  },
  {
   "cell_type": "code",
   "execution_count": 43,
   "metadata": {},
   "outputs": [
    {
     "name": "stdout",
     "output_type": "stream",
     "text": [
      "Ent num: 1\n",
      "Ent num: 2\n",
      "Ent num: 3\n",
      "Ent num: 4\n",
      "Ent num: 5\n",
      "Ent num: 6\n",
      "Ent num: 7\n",
      "Ent num: 8\n",
      "Ent num: 9\n",
      "Ent num: done\n",
      "Avg_even : 5.0\n",
      "Avg_odd : 5.0\n",
      "Min_odd : 1, Max_odd : 9, Min_even : 2, Max_even : 8\n"
     ]
    }
   ],
   "source": [
    "#take user in until enter done \n",
    "max_even = max_odd = sum_even = sum_odd= 0\n",
    "flag = 0\n",
    "c1 = 0\n",
    "c2 =0\n",
    "avg_even = avg_odd=0\n",
    "\n",
    "while flag !=1:\n",
    "    num = input(\"Ent num: \")\n",
    "    if num==\"DONE\" or num ==\"done\":\n",
    "        falg =1\n",
    "        break\n",
    "    else:\n",
    "        num = int(num)\n",
    "        if num%2==0:\n",
    "            sum_even = num+ sum_even\n",
    "            c1 =c1+1\n",
    "            if c1==1:\n",
    "                max_even=num\n",
    "                min_even=num\n",
    "            #max_even = min_even = num\n",
    "            if(num>max_even):\n",
    "                max_even = num\n",
    "            if(num<min_even):\n",
    "                min_even = num\n",
    "        else:\n",
    "            sum_odd = num+ sum_odd\n",
    "            c2= c2+1\n",
    "            if c2==1:\n",
    "                max_odd =num\n",
    "                min_odd = num\n",
    "            #max_odd = min_odd = num\n",
    "            if (num> max_odd):\n",
    "                max_odd = num\n",
    "            if (num<min_odd ):\n",
    "                min_odd = num\n",
    "avg_even = sum_even/c1\n",
    "avg_odd = sum_odd/c2\n",
    "print(f\"Avg_even : {avg_even}\")\n",
    "print(f\"Avg_odd : {avg_odd}\")\n",
    "print(f\"Min_odd : {min_odd}, Max_odd : {max_odd}, Min_even : {min_even}, Max_even : {max_even}\")"
   ]
  },
  {
   "cell_type": "code",
   "execution_count": 66,
   "metadata": {},
   "outputs": [
    {
     "name": "stdout",
     "output_type": "stream",
     "text": [
      "Enter the score of studet= 1  : 20\n",
      "Enter the score of studet= 2  : 30\n",
      "Enter the score of studet= 3  : 45\n",
      "Enter the score of studet= 4  : 69\n",
      "Enter the score of studet= 5  : 86\n",
      "Enter the score of studet= 6  : 92\n",
      "Enter the score of studet= 7  : 32\n",
      "Enter the score of studet= 8  : 11\n",
      "Enter the score of studet= 9  : 20\n",
      "Enter the score of studet= 10  : 54\n",
      "Min_score : 11 , Max_score : 92 , Avg_score : 45.9 , Second_max: 86, Second_min : 20, Second_avg : 53.5\n"
     ]
    }
   ],
   "source": [
    "min_score = max_score = avg_score = second_max = second_avg=second_min=0\n",
    "sum =0\n",
    "for i in range(1,11):\n",
    "    n = int(input(f\"Enter the score of studet= {i}  : \"))\n",
    "    if(i ==1):\n",
    "        min_score =n\n",
    "        max_score = n\n",
    "        second_min=n\n",
    "        second_max=n\n",
    "    if(second_min == min_score and n>min_score):\n",
    "        second_min=n\n",
    "    if(n>max_score):\n",
    "        second_max = max_score\n",
    "        max_score=n \n",
    "        \n",
    "    if(n<min_score):\n",
    "        second_min=min_score\n",
    "        min_score =n\n",
    "        \n",
    "#     if(n>second_max and n<max_score):\n",
    "#         second_max = n\n",
    "#     if(n<second_min and n>min_score):\n",
    "#         second_min =n\n",
    "    sum = sum+ n\n",
    "    \n",
    "avg_score = sum/10\n",
    "second_avg = (sum- second_min - min_score)/8\n",
    "print(f\"Min_score : {min_score} , Max_score : {max_score} , Avg_score : {avg_score} , Second_max: {second_max}, Second_min : {second_min}, Second_avg : {second_avg}\")"
   ]
  }
 ],
 "metadata": {
  "kernelspec": {
   "display_name": "Python 3",
   "language": "python",
   "name": "python3"
  },
  "language_info": {
   "codemirror_mode": {
    "name": "ipython",
    "version": 3
   },
   "file_extension": ".py",
   "mimetype": "text/x-python",
   "name": "python",
   "nbconvert_exporter": "python",
   "pygments_lexer": "ipython3",
   "version": "3.8.5"
  }
 },
 "nbformat": 4,
 "nbformat_minor": 4
}
